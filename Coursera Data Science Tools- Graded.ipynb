{
 "cells": [
  {
   "cell_type": "markdown",
   "id": "f55bf001",
   "metadata": {},
   "source": [
    "# My Jupyter Notebook\n",
    "\n"
   ]
  },
  {
   "cell_type": "markdown",
   "id": "fdc73ae0",
   "metadata": {},
   "source": [
    "**UU**\n",
    "\n",
    "I am learning data science\n"
   ]
  },
  {
   "cell_type": "markdown",
   "id": "75e392d1",
   "metadata": {},
   "source": [
    "*I am interested in data science because its fun to have the capabalities of predicting the world*"
   ]
  },
  {
   "cell_type": "markdown",
   "id": "f20b23ba",
   "metadata": {},
   "source": [
    "### My code is going to add integer \"1\" with another interger \"1\""
   ]
  },
  {
   "cell_type": "code",
   "execution_count": 4,
   "id": "7b2082ad",
   "metadata": {},
   "outputs": [
    {
     "data": {
      "text/plain": [
       "2"
      ]
     },
     "execution_count": 4,
     "metadata": {},
     "output_type": "execute_result"
    }
   ],
   "source": [
    "1+1"
   ]
  },
  {
   "cell_type": "markdown",
   "id": "bed6139a",
   "metadata": {},
   "source": [
    "\n",
    "\n",
    "Let's Start Counting.\\\n",
    "Here we go.\n",
    "\n",
    "1.   Count to 1\n",
    "2. Count to 2\n",
    "* Count to  3\n",
    "\n",
    "End"
   ]
  },
  {
   "cell_type": "markdown",
   "id": "83da6f40",
   "metadata": {},
   "source": []
  },
  {
   "cell_type": "markdown",
   "id": "9181dc64",
   "metadata": {},
   "source": []
  },
  {
   "cell_type": "code",
   "execution_count": null,
   "id": "a6369765",
   "metadata": {},
   "outputs": [],
   "source": []
  }
 ],
 "metadata": {
  "kernelspec": {
   "display_name": "Python 3 (ipykernel)",
   "language": "python",
   "name": "python3"
  },
  "language_info": {
   "codemirror_mode": {
    "name": "ipython",
    "version": 3
   },
   "file_extension": ".py",
   "mimetype": "text/x-python",
   "name": "python",
   "nbconvert_exporter": "python",
   "pygments_lexer": "ipython3",
   "version": "3.9.12"
  }
 },
 "nbformat": 4,
 "nbformat_minor": 5
}
